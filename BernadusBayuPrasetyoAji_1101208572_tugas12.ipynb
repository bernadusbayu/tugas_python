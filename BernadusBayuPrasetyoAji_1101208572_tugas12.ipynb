{
  "nbformat": 4,
  "nbformat_minor": 0,
  "metadata": {
    "colab": {
      "name": "Untitled6.ipynb",
      "provenance": [],
      "authorship_tag": "ABX9TyPQ9UJmtSP4kW1TjQXxcSvx",
      "include_colab_link": true
    },
    "kernelspec": {
      "name": "python3",
      "display_name": "Python 3"
    }
  },
  "cells": [
    {
      "cell_type": "markdown",
      "metadata": {
        "id": "view-in-github",
        "colab_type": "text"
      },
      "source": [
        "<a href=\"https://colab.research.google.com/github/bernadusbayu/tugas_python/blob/main/BernadusBayuPrasetyoAji_1101208572_tugas12.ipynb\" target=\"_parent\"><img src=\"https://colab.research.google.com/assets/colab-badge.svg\" alt=\"Open In Colab\"/></a>"
      ]
    },
    {
      "cell_type": "code",
      "metadata": {
        "id": "bZhPTWyakyEz"
      },
      "source": [
        "import numpy as np"
      ],
      "execution_count": 1,
      "outputs": []
    },
    {
      "cell_type": "code",
      "metadata": {
        "colab": {
          "base_uri": "https://localhost:8080/"
        },
        "id": "FU6s5BNZk3aZ",
        "outputId": "3db1cb59-7b46-4aeb-9c83-19b847e5b19f"
      },
      "source": [
        "y=10*np.log10(100)\r\n",
        "print(y)"
      ],
      "execution_count": 2,
      "outputs": [
        {
          "output_type": "stream",
          "text": [
            "20.0\n"
          ],
          "name": "stdout"
        }
      ]
    },
    {
      "cell_type": "code",
      "metadata": {
        "id": "Eyg40_wtk6e9"
      },
      "source": [
        "NtL = lambda x: 10*np.log10(x)"
      ],
      "execution_count": 3,
      "outputs": []
    },
    {
      "cell_type": "code",
      "metadata": {
        "colab": {
          "base_uri": "https://localhost:8080/"
        },
        "id": "wgo-yqpKk-V-",
        "outputId": "027407b3-aa25-409c-dabd-add3f8fe2fa2"
      },
      "source": [
        "z=NtL(100)\r\n",
        "print(z)"
      ],
      "execution_count": 4,
      "outputs": [
        {
          "output_type": "stream",
          "text": [
            "20.0\n"
          ],
          "name": "stdout"
        }
      ]
    },
    {
      "cell_type": "code",
      "metadata": {
        "id": "dTJMaqTPlBNM"
      },
      "source": [
        "LtN = lambda x: 10**(x/10)"
      ],
      "execution_count": 5,
      "outputs": []
    },
    {
      "cell_type": "code",
      "metadata": {
        "colab": {
          "base_uri": "https://localhost:8080/"
        },
        "id": "6GIKF3vJlD8F",
        "outputId": "877050f7-4d25-4e1a-c7f4-5b345a848f59"
      },
      "source": [
        "y=LtN(3)\r\n",
        "print(y)"
      ],
      "execution_count": 6,
      "outputs": [
        {
          "output_type": "stream",
          "text": [
            "1.9952623149688795\n"
          ],
          "name": "stdout"
        }
      ]
    },
    {
      "cell_type": "code",
      "metadata": {
        "colab": {
          "base_uri": "https://localhost:8080/"
        },
        "id": "yPVNXFEHlGFr",
        "outputId": "aa7c870a-3d70-4a67-8342-ca74aed610f2"
      },
      "source": [
        "PL = -22.75 + (20*np.log10(500)) + (20*np.log10(1800000000))\r\n",
        "print(PL)"
      ],
      "execution_count": 7,
      "outputs": [
        {
          "output_type": "stream",
          "text": [
            "216.3348501887865\n"
          ],
          "name": "stdout"
        }
      ]
    },
    {
      "cell_type": "code",
      "metadata": {
        "id": "RN-4PM6elN9v"
      },
      "source": [
        "def ploss(d,f):\r\n",
        "  pldb=-22.75 + (20*np.log10(d)) + (20*np.log10(f))\r\n",
        "  plnum=LtN(-pldb)\r\n",
        "  return pldb,plnum"
      ],
      "execution_count": 8,
      "outputs": []
    },
    {
      "cell_type": "code",
      "metadata": {
        "colab": {
          "base_uri": "https://localhost:8080/"
        },
        "id": "dF2i2pLSlQ5P",
        "outputId": "bfb6aeeb-0095-424d-83b9-9ed4631a5610"
      },
      "source": [
        "pathlossdb, pathlossnum = ploss(150,900000000)\r\n",
        "print(\"pathloss dalam db =\",pathlossdb,\"dB\")"
      ],
      "execution_count": 9,
      "outputs": [
        {
          "output_type": "stream",
          "text": [
            "pathloss dalam db = 199.85667536990013 dB\n"
          ],
          "name": "stdout"
        }
      ]
    },
    {
      "cell_type": "code",
      "metadata": {
        "id": "UFNSVz0wlSd0"
      },
      "source": [
        "def Prx(d,f,Ptx):\r\n",
        "\r\n",
        "  #fungsi menghitung daya terima, input d(jarak(km))\r\n",
        "  #f(frekuensi(MHz)), dan Ptx(daya pancar (W))\r\n",
        "\r\n",
        "  #mengubah Ptx dari Watt ke dBW\r\n",
        "  Pdb = NtL(Ptx)\r\n",
        "\r\n",
        "  #menghitung pathloss\r\n",
        "  pldb= 32.5 + (20*np.log10(d)) + (20*np.log10(f))\r\n",
        "\r\n",
        "  #hitung prx dalam dB\r\n",
        "  prdb=Pdb-pldb\r\n",
        "\r\n",
        "  #ubah daya terima ke bentuk numerik\r\n",
        "  prx=LtN(prdb)\r\n",
        "\r\n",
        "  return prx,prdb"
      ],
      "execution_count": 10,
      "outputs": []
    },
    {
      "cell_type": "code",
      "metadata": {
        "colab": {
          "base_uri": "https://localhost:8080/"
        },
        "id": "pWHJvlbElXtO",
        "outputId": "6019a5af-5122-4f48-ecf8-15bcb575ad4a"
      },
      "source": [
        "PRX,PRDB=Prx(5,700,40)\r\n",
        "print(\"daya terima adalah :\", PRX,\"W\")"
      ],
      "execution_count": 11,
      "outputs": [
        {
          "output_type": "stream",
          "text": [
            "daya terima adalah : 1.8362165720501197e-09 W\n"
          ],
          "name": "stdout"
        }
      ]
    },
    {
      "cell_type": "code",
      "metadata": {
        "id": "XvXNHc7llbMf"
      },
      "source": [
        "def noise(B):\r\n",
        "  #B adalah bandwidth dalam hertz\r\n",
        "  x=LtN(-144)\r\n",
        "  N=x*B\r\n",
        "  return N"
      ],
      "execution_count": 12,
      "outputs": []
    },
    {
      "cell_type": "code",
      "metadata": {
        "colab": {
          "base_uri": "https://localhost:8080/"
        },
        "id": "v41csc6Clfc3",
        "outputId": "ba97d3fd-4214-4a28-f7fc-8813db1996a4"
      },
      "source": [
        "Noise=noise(180000)\r\n",
        "print(Noise)"
      ],
      "execution_count": 13,
      "outputs": [
        {
          "output_type": "stream",
          "text": [
            "7.165929069962945e-10\n"
          ],
          "name": "stdout"
        }
      ]
    },
    {
      "cell_type": "code",
      "metadata": {
        "colab": {
          "base_uri": "https://localhost:8080/"
        },
        "id": "fJ21MCXMljsA",
        "outputId": "3e994c5a-e304-4d4a-d20a-73f5ffc43370"
      },
      "source": [
        "SNR = PRX/Noise\r\n",
        "print(SNR)"
      ],
      "execution_count": 14,
      "outputs": [
        {
          "output_type": "stream",
          "text": [
            "2.5624263848031847\n"
          ],
          "name": "stdout"
        }
      ]
    }
  ]
}